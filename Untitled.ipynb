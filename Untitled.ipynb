{
 "cells": [
  {
   "cell_type": "code",
   "execution_count": 11,
   "metadata": {},
   "outputs": [],
   "source": [
    "import numpy as np"
   ]
  },
  {
   "cell_type": "code",
   "execution_count": 12,
   "metadata": {},
   "outputs": [],
   "source": [
    "class EISGame(object):\n",
    "    \"\"\"\n",
    "    Simulates the game described in the paper. Game is multi-agent.\n",
    "    S1= [1,2] , S2 = [-2,1]  S = S1 U S2\n",
    "    Actions = [0.1,0.2,0.3,0.4,0.5]\n",
    "    Transition = s' = Project (-s + Guassian(a,sigma^2)), sigma_2 = 1\n",
    "    Reward = r1(s,a) = |s| - a\n",
    "    \"\"\"\n",
    "\n",
    "    def __init__(self, numActions=5, stateWidth=1, gamma=0.9):\n",
    "        super(EISGame, self).__init__()\n",
    "        # Actual Environment starts here\n",
    "        # Randomly start in player 1's space\n",
    "        self.curState = np.random.uniform(1, 2)\n",
    "        self.curPlayer = 0  # Player 0 always starts first, 0 Indexed\n",
    "        self.p0States = [1, 1 + stateWidth]\n",
    "        self.p1States = [-1 - stateWidth, -1]\n",
    "        self.States = [self.p0States, self.p1States]\n",
    "        self.actions = [0.1 * i for i in range(1, numActions + 1)]\n",
    "        self.gamma = gamma\n",
    "        self.rounds = 0\n",
    "        self.roundCounter = 0  # Counts the number of playhers that have played this round\n",
    "        self.p0Rewards = [0] * 9999 # Preallocate 0 arrays\n",
    "        self.p1Rewards = [0] * 9999 # Preallocate 0 arrays\n",
    "        self.rewards=[self.p0Rewards,self.p1Rewards] # Reward array\n",
    "\n",
    "    def transition(self, action, prints=False):\n",
    "        act = np.random.normal(loc=action, scale=1)  # Gaussian filter\n",
    "        if prints:\n",
    "            print('Resulting action was ' + str(act))\n",
    "        nextState = -self.curState + act  # calculate next state\n",
    "        # Calculate the possible states depending on the player\n",
    "        self.curPlayer = (self.curPlayer + 1) % 2\n",
    "        curStates = self.States[self.curPlayer]\n",
    "        if nextState < min(curStates):  # Project to min\n",
    "            nextState = min(curStates)\n",
    "        if nextState > max(curStates):  # Project to max\n",
    "            nextState = max(curStates)\n",
    "        if prints:\n",
    "        \tprint('Next State is ' + str(nextState) )\n",
    "        return nextState\n",
    "\n",
    "    def calcReward(self, action):\n",
    "        return pow(self.gamma, self.rounds) * (abs(self.curState) + action)\n",
    "\n",
    "    def takeAction(self, action, prints=False):\n",
    "        if action not in self.actions:\n",
    "            \"\"\n",
    "            return -1\n",
    "        reward = self.calcReward(action)\n",
    "        self.roundCounter += 1\n",
    "        if (self.roundCounter == 2):\n",
    "            self.roundCounter = 0\n",
    "            self.rounds += 1\n",
    "        if prints:\n",
    "            print('Player ' + str(self.curPlayer + 1) +\n",
    "                  ' Took action ' + str(action))\n",
    "        print(\"The reward was \" + reward )\n",
    "        self.rewards[self.curPlayer][self.rounds] = reward\n",
    "        self.curState = self.transition(action, prints)\n",
    "        return 1\n",
    "        \n"
   ]
  },
  {
   "cell_type": "code",
   "execution_count": 17,
   "metadata": {},
   "outputs": [],
   "source": [
    "g = EISGame()"
   ]
  },
  {
   "cell_type": "code",
   "execution_count": 19,
   "metadata": {},
   "outputs": [
    {
     "data": {
      "text/plain": [
       "0"
      ]
     },
     "execution_count": 19,
     "metadata": {},
     "output_type": "execute_result"
    }
   ],
   "source": [
    "g.takeAction()"
   ]
  }
 ],
 "metadata": {
  "kernelspec": {
   "display_name": "Python [conda env:EIS] *",
   "language": "python",
   "name": "conda-env-EIS-py"
  },
  "language_info": {
   "codemirror_mode": {
    "name": "ipython",
    "version": 3
   },
   "file_extension": ".py",
   "mimetype": "text/x-python",
   "name": "python",
   "nbconvert_exporter": "python",
   "pygments_lexer": "ipython3",
   "version": "3.6.10"
  }
 },
 "nbformat": 4,
 "nbformat_minor": 2
}
