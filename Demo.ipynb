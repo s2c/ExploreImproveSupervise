{
 "cells": [
  {
   "cell_type": "code",
   "execution_count": 22,
   "metadata": {},
   "outputs": [],
   "source": [
    "import EIS\n",
    "import matplotlib.pyplot as plt \n",
    "import numpy as np\n",
    "import random"
   ]
  },
  {
   "cell_type": "code",
   "execution_count": 23,
   "metadata": {},
   "outputs": [
    {
     "name": "stdout",
     "output_type": "stream",
     "text": [
      "The starting state is 1.3809568909117158\n",
      "[0.1, 0.2, 0.30000000000000004, 0.4, 0.5]\n",
      "Current game status: \n",
      "Rounds: 0\n",
      "Number of players that have played this round: 0\n",
      "Player Turn: 1\n",
      "Rewards so far: \n",
      "Player 1: [0]\n",
      "Player 2: [0]\n",
      "Curent State: 1.3809568909117158\n"
     ]
    },
    {
     "data": {
      "image/png": "[encoded data removed]",
      "text/plain": [
       "<Figure size 648x72 with 1 Axes>"
      ]
     },
     "metadata": {
      "needs_background": "light"
     },
     "output_type": "display_data"
    }
   ],
   "source": [
    "# Initialize the game\n",
    "g = EIS.EISGame(numActions=5, stateWidth=1, gamma=0.9)\n",
    "# can set numActions, stateWidth, and gamma with parameters\n",
    "# numActions use 0.1 increments\n",
    "# with numActions = 2, possible actions are 0.1,0.2\n",
    "# with numActions = 10, possible Actions are 0.1,0.2,.....1\n",
    "\n",
    "# State width is the width of player states\n",
    "# So stateWidth 1 = [1,2],[-1,-2]\n",
    "# statewidth 4 = [1,5]. [-1,-5]\n",
    "\n",
    "# gamma is reward discount at round t\n",
    "# so reward at round 9 = gamma^9*(normal_reward)\n",
    "\n",
    "# You can get a list of actions with \n",
    "print(g.actions)\n",
    "# For a full status of the game use\n",
    "g.status()"
   ]
  },
  {
   "cell_type": "code",
   "execution_count": 24,
   "metadata": {},
   "outputs": [
    {
     "name": "stdout",
     "output_type": "stream",
     "text": [
      "The reward was 1.5809568909117158\n",
      "1\n",
      "Invalid Action\n",
      "-1\n"
     ]
    }
   ],
   "source": [
    "# Interface is simple\n",
    "# Just specify action to take\n",
    "# Automatically calculates current player and updates rounds\n",
    "# Returns 1 if successful\n",
    "print(g.takeAction(g.actions[1]))\n",
    "# Returns -1 if invalid action\n",
    "print(g.takeAction(40))\n",
    "# "
   ]
  },
  {
   "cell_type": "code",
   "execution_count": 25,
   "metadata": {},
   "outputs": [
    {
     "name": "stdout",
     "output_type": "stream",
     "text": [
      "Invalid Action\n",
      "[0.1, 0.2, 0.30000000000000004, 0.4, 0.5]\n",
      "The reward was 1.3\n"
     ]
    },
    {
     "data": {
      "text/plain": [
       "1"
      ]
     },
     "execution_count": 25,
     "metadata": {},
     "output_type": "execute_result"
    }
   ],
   "source": [
    "# Actions should be selected from g.actions instead of specifying a number because\n",
    "# floating point math may make it not work correctly\n",
    "g.takeAction(0.3) # 0.3 doesn't work because of floating point arithmetic\n",
    "# Instead use\n",
    "print(g.actions) #Index 2 which is equal to 0.3\n",
    "g.takeAction(g.actions[2])"
   ]
  },
  {
   "cell_type": "code",
   "execution_count": 26,
   "metadata": {},
   "outputs": [
    {
     "name": "stdout",
     "output_type": "stream",
     "text": [
      "1.5809568909117158\n",
      "1.3\n",
      "Rounds:  0\n",
      "Player 1 Took action 0.30000000000000004\n",
      "The reward was 1.2635217949060205\n",
      "Resulting action was 0.09719033389896753\n",
      "Next State is -1.0067227715521663\n"
     ]
    },
    {
     "data": {
      "text/plain": [
       "1"
      ]
     },
     "execution_count": 26,
     "metadata": {},
     "output_type": "execute_result"
    }
   ],
   "source": [
    "# Total rewards so far can be calculated using a simple sum\n",
    "print(sum(g.rewards[0])) # player 1\n",
    "print(sum(g.rewards[1])) # player 2\n",
    "\n",
    "# Note that the comparison is only fair if roundCounter == 0\n",
    "# Otherwise one player has played more times than the other player\n",
    "print(\"Rounds: \", str(g.roundCounter))\n",
    "\n",
    "# You can use prints=True with takeAction to get more details about the action\n",
    "g.takeAction(random.sample(g.actions,1)[0] , prints=True) # randomly sampling an action from action list"
   ]
  }
 ],
 "metadata": {
  "kernelspec": {
   "display_name": "Python [conda env:EIS] *",
   "language": "python",
   "name": "conda-env-EIS-py"
  },
  "language_info": {
   "codemirror_mode": {
    "name": "ipython",
    "version": 3
   },
   "file_extension": ".py",
   "mimetype": "text/x-python",
   "name": "python",
   "nbconvert_exporter": "python",
   "pygments_lexer": "ipython3",
   "version": "3.6.10"
  }
 },
 "nbformat": 4,
 "nbformat_minor": 2
}
