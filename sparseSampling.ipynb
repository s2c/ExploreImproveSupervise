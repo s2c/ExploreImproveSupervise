{
 "cells": [
  {
   "cell_type": "code",
   "execution_count": 1,
   "metadata": {},
   "outputs": [],
   "source": [
    "import numpy as np\n",
    "from sparseSampling import sparseSampling\n",
    "from EIS import EISGame\n",
    "from valueIteration import valueIteration"
   ]
  },
  {
   "cell_type": "code",
   "execution_count": 2,
   "metadata": {
    "scrolled": true
   },
   "outputs": [
    {
     "name": "stdout",
     "output_type": "stream",
     "text": [
      "The starting state is 0.06282037718268485\n"
     ]
    },
    {
     "data": {
      "text/plain": [
       "{-1.0: 0,\n",
       " -0.90000000000000002: 0,\n",
       " -0.80000000000000004: 0,\n",
       " -0.69999999999999996: 0,\n",
       " -0.59999999999999998: 0,\n",
       " -0.5: 0,\n",
       " -0.39999999999999991: 0,\n",
       " -0.29999999999999993: 0,\n",
       " -0.19999999999999996: 0,\n",
       " -0.099999999999999978: 0,\n",
       " 0.0: 0,\n",
       " 0.10000000000000009: 0,\n",
       " 0.20000000000000018: 0,\n",
       " 0.30000000000000004: 0,\n",
       " 0.40000000000000013: 0,\n",
       " 0.5: 0,\n",
       " 0.60000000000000009: 0,\n",
       " 0.70000000000000018: 0,\n",
       " 0.80000000000000004: 0,\n",
       " 0.90000000000000013: 0,\n",
       " 1.0: 0}"
      ]
     },
     "execution_count": 2,
     "metadata": {},
     "output_type": "execute_result"
    }
   ],
   "source": [
    "g = EISGame()\n",
    "s = sparseSampling(gamma=0.3,G = g,Rmax = 1.5, epsilon = 0.5)\n",
    "v = valueIteration(G=g,stateRange=[-1,1],numInterval=20,C=40,gamma=0.5)\n",
    "v.V"
   ]
  },
  {
   "cell_type": "code",
   "execution_count": 7,
   "metadata": {},
   "outputs": [],
   "source": [
    "for reps in range(0,100):\n",
    "    v.nextIteration()\n",
    "#     print(\"\\n\")"
   ]
  },
  {
   "cell_type": "code",
   "execution_count": 6,
   "metadata": {},
   "outputs": [
    {
     "data": {
      "text/plain": [
       "{-1.0: 0.099644859287820076,\n",
       " -0.90000000000000002: -0.009810691873472499,\n",
       " -0.80000000000000004: -0.10490505124629979,\n",
       " -0.69999999999999996: -0.20579187433119628,\n",
       " -0.59999999999999998: -0.27201126233519946,\n",
       " -0.5: -0.40657131517669176,\n",
       " -0.39999999999999991: -0.47480699869861104,\n",
       " -0.29999999999999993: -0.55425171327635159,\n",
       " -0.19999999999999996: -0.68814243687295873,\n",
       " -0.099999999999999978: -0.78721619003535859,\n",
       " 0.0: -0.81465268425049975,\n",
       " 0.10000000000000009: -0.28971544656064085,\n",
       " 0.20000000000000018: -0.13212785916510161,\n",
       " 0.30000000000000004: -0.039080115274266886,\n",
       " 0.40000000000000013: 0.10794382229361649,\n",
       " 0.5: 0.18383114917187607,\n",
       " 0.60000000000000009: 0.33148692600511165,\n",
       " 0.70000000000000018: 0.47665994996345318,\n",
       " 0.80000000000000004: 0.56121821595147081,\n",
       " 0.90000000000000013: 0.6590429363524315,\n",
       " 1.0: 0.77859519786703879}"
      ]
     },
     "execution_count": 6,
     "metadata": {},
     "output_type": "execute_result"
    }
   ],
   "source": [
    "v.V"
   ]
  }
 ],
 "metadata": {
  "kernelspec": {
   "display_name": "Python 3",
   "language": "python",
   "name": "python3"
  },
  "language_info": {
   "codemirror_mode": {
    "name": "ipython",
    "version": 3
   },
   "file_extension": ".py",
   "mimetype": "text/x-python",
   "name": "python",
   "nbconvert_exporter": "python",
   "pygments_lexer": "ipython3",
   "version": "3.5.2"
  }
 },
 "nbformat": 4,
 "nbformat_minor": 2
}
