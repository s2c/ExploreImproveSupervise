{
 "cells": [
  {
   "cell_type": "code",
   "execution_count": 1,
   "metadata": {},
   "outputs": [],
   "source": [
    "import numpy as np\n",
    "from EIS import EISGame\n",
    "from sparseSampling import sparseSampling\n",
    "from IPython.core.debugger import set_trace\n",
    "import random"
   ]
  },
  {
   "cell_type": "code",
   "execution_count": 3,
   "metadata": {},
   "outputs": [
    {
     "name": "stdout",
     "output_type": "stream",
     "text": [
      "The starting state is 1.0813720086315115\n"
     ]
    }
   ],
   "source": [
    "random.seed(2)\n",
    "g = EISGame()\n",
    "s = sparseSampling(H=7,C=2,gamma=0.3,G=g,Rmax = 2.5, epsilon = 0.4)\n",
    "# s.getAllChildrenStats(s.G.curState)\n",
    "# (s.estimateQ(7,s.s))"
   ]
  },
  {
   "cell_type": "code",
   "execution_count": 29,
   "metadata": {},
   "outputs": [
    {
     "name": "stdout",
     "output_type": "stream",
     "text": [
      "Player 2 Took action 0.1\n",
      "The reward was 0.12949576515258113\n",
      "Current game status: \n",
      "Rounds: 26\n",
      "Number of players that have played this round: 0\n",
      "Player Turn: 1\n",
      "Rewards so far: \n",
      "Player 1: [0.9813720086315115, 0, 0.7290000000000001, 0, 0.5904900000000001, 0, 0.4782969000000001, 0, 0.3874204890000001, 0, 0.3138105960900001, 0, 0.25418658283290013, 0, 0.2058911320946491, 0, 0.16677181699666574, 0, 0.13508517176729926, 0, 0.10941898913151242, 0, 0.08862938119652507, 0, 0.0717897987691853, 0, 0]\n",
      "Player 2: [0, 0.8313309402383017, 0, 1.2179469921865018, 0, 0.7971390782984794, 0, 0.4304672100000001, 0, 0.6775042773097998, 0, 0.44895494201291736, 0, 0.4586176974798292, 0, 0.34275927656982086, 0, 0.31686645229366495, 0, 0.2566618263578686, 0, 0.09847709021836118, 0, 0.07976644307687256, 0, 0.12949576515258113, 0]\n",
      "Curent State: 1\n"
     ]
    },
    {
     "data": {
      "image/png": "[encoded data removed]",
      "text/plain": [
       "<Figure size 648x72 with 1 Axes>"
      ]
     },
     "metadata": {
      "needs_background": "light"
     },
     "output_type": "display_data"
    }
   ],
   "source": [
    "s.G.takeAction(0.1,prints=True)\n",
    "s.G.status()"
   ]
  }
 ],
 "metadata": {
  "kernelspec": {
   "display_name": "Python [conda env:EIS] *",
   "language": "python",
   "name": "conda-env-EIS-py"
  },
  "language_info": {
   "codemirror_mode": {
    "name": "ipython",
    "version": 3
   },
   "file_extension": ".py",
   "mimetype": "text/x-python",
   "name": "python",
   "nbconvert_exporter": "python",
   "pygments_lexer": "ipython3",
   "version": "3.6.10"
  }
 },
 "nbformat": 4,
 "nbformat_minor": 2
}
