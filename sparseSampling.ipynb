{
 "cells": [
  {
   "cell_type": "code",
   "execution_count": 19,
   "metadata": {},
   "outputs": [],
   "source": [
    "import numpy as np\n",
    "from EIS import EISGame\n",
    "from sparseSampling import sparseSampling\n",
    "from IPython.core.debugger import set_trace\n",
    "import random"
   ]
  },
  {
   "cell_type": "code",
   "execution_count": null,
   "metadata": {},
   "outputs": [
    {
     "name": "stdout",
     "output_type": "stream",
     "text": [
      "The starting state is 1.090940954937241\n"
     ]
    }
   ],
   "source": [
    "random.seed(2)\n",
    "g = EISGame()\n",
    "s = sparseSampling(H=5,C=3,gamma=0.3,G=g)\n",
    "(s.estimateQ(15,s.s))"
   ]
  }
 ],
 "metadata": {
  "kernelspec": {
   "display_name": "Python [conda env:EIS] *",
   "language": "python",
   "name": "conda-env-EIS-py"
  },
  "language_info": {
   "codemirror_mode": {
    "name": "ipython",
    "version": 3
   },
   "file_extension": ".py",
   "mimetype": "text/x-python",
   "name": "python",
   "nbconvert_exporter": "python",
   "pygments_lexer": "ipython3",
   "version": "3.6.10"
  }
 },
 "nbformat": 4,
 "nbformat_minor": 2
}
