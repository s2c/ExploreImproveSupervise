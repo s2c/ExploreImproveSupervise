{
 "cells": [
  {
   "cell_type": "code",
   "execution_count": 1,
   "metadata": {},
   "outputs": [],
   "source": [
    "import numpy as np\n",
    "from sparseSampling import sparseSampling\n",
    "from EISGame import EISGame\n",
    "from valueIteration import valueIteration\n",
    "from discretizer import discretizer\n",
    "from EIS import SLModel\n",
    "import pprint\n",
    "import matplotlib.pyplot as plt"
   ]
  },
  {
   "cell_type": "code",
   "execution_count": 2,
   "metadata": {
    "scrolled": true
   },
   "outputs": [],
   "source": [
    "# Parameters\n",
    "Rmax = 1.5\n",
    "epsilon = 0.5\n",
    "gamma = 0.3\n",
    "stateRange = [-1,1]\n",
    "numIntervals = 20\n",
    "C = 20\n",
    "H = 3\n",
    "EISIterations = 1\n",
    "Nt = 5\n",
    "# v.V"
   ]
  },
  {
   "cell_type": "code",
   "execution_count": 6,
   "metadata": {},
   "outputs": [
    {
     "name": "stdout",
     "output_type": "stream",
     "text": [
      "The starting state is 0.9185856772985281\n"
     ]
    }
   ],
   "source": [
    "# Test Objects\n",
    "g = EISGame()\n",
    "d = discretizer(stateRange,numIntervals)\n",
    "s = sparseSampling(gamma=gamma,G = g,Rmax = Rmax, epsilon = epsilon )\n",
    "s.H = H\n",
    "s.C = C\n",
    "v = valueIteration(G=g,stateRange=[-1,1],numInterval=numIntervals,C=C,gamma=gamma,discretizer=d)"
   ]
  },
  {
   "cell_type": "code",
   "execution_count": 27,
   "metadata": {},
   "outputs": [
    {
     "name": "stdout",
     "output_type": "stream",
     "text": [
      "Current game status: \n",
      "Rounds: 20\n",
      "Number of players that have played this round: 0\n",
      "Player Turn: 1\n",
      "Rewards so far: \n",
      "Player 1: [0.8185856772985282, 0.81, 0.7290000000000001, 0.6561000000000001, 0.5904900000000001, 0.531441, 0.4782969000000001, 0.4304672100000001, 0.20242234972726883, 0.19371024450000005, -0.03680000895146385, 0.054664666356797634, 0.14121476824050005, -0.10588172576959375, -0.03385354839561122, -0.10294556604732454, 0.09265100944259208, 0.08338590849833288, 0.07504731764849959, 0.0613742324431419, 0]\n",
      "Player 2: [0, 0, 0, 0, 0, 0, 0, 0, 0, 0, 0, 0, 0, 0, 0, 0, 0, 0, 0, 0, 0]\n",
      "Curent State: 1\n",
      "\n",
      "\n",
      "Player 1 Took action 0.5\n",
      "The reward was 0.060788327295284675\n",
      "Resulting action was 1.7081499130502147\n",
      "Next State is 0\n",
      "\n",
      "\n",
      "Current game status: \n",
      "Rounds: 21\n",
      "Number of players that have played this round: 0\n",
      "Player Turn: 2\n",
      "Rewards so far: \n",
      "Player 1: [0.8185856772985282, 0.81, 0.7290000000000001, 0.6561000000000001, 0.5904900000000001, 0.531441, 0.4782969000000001, 0.4304672100000001, 0.20242234972726883, 0.19371024450000005, -0.03680000895146385, 0.054664666356797634, 0.14121476824050005, -0.10588172576959375, -0.03385354839561122, -0.10294556604732454, 0.09265100944259208, 0.08338590849833288, 0.07504731764849959, 0.0613742324431419, 0.060788327295284675, 0]\n",
      "Player 2: [0, 0, 0, 0, 0, 0, 0, 0, 0, 0, 0, 0, 0, 0, 0, 0, 0, 0, 0, 0, 0, 0]\n",
      "Curent State: 0\n"
     ]
    },
    {
     "data": {
      "image/png": "[encoded data removed]",
      "text/plain": [
       "<Figure size 648x72 with 1 Axes>"
      ]
     },
     "metadata": {
      "needs_background": "light"
     },
     "output_type": "display_data"
    },
    {
     "data": {
      "image/png": "[encoded data removed]",
      "text/plain": [
       "<Figure size 648x72 with 1 Axes>"
      ]
     },
     "metadata": {
      "needs_background": "light"
     },
     "output_type": "display_data"
    }
   ],
   "source": [
    "g.status()\n",
    "print(\"\\n\")\n",
    "g.takeAction(g.actions[4],prints=True)\n",
    "print(\"\\n\")\n",
    "g.status()"
   ]
  },
  {
   "cell_type": "code",
   "execution_count": null,
   "metadata": {},
   "outputs": [],
   "source": [
    "# Parameters\n",
    "Rmax = 1.5\n",
    "epsilon = 0.5\n",
    "gamma = 0.3\n",
    "stateRange = [-1,1]\n",
    "numIntervals = 200\n",
    "C = 10\n",
    "H = 2\n",
    "EISIterations = 10\n",
    "Nt = 500\n",
    "# v.V"
   ]
  },
  {
   "cell_type": "code",
   "execution_count": null,
   "metadata": {},
   "outputs": [],
   "source": [
    "# Run Value Iteration\n",
    "nValueIteration = 1000\n",
    "d = discretizer(stateRange,numIntervals)\n",
    "v = valueIteration(G=g,stateRange=[-1,1],numInterval=numIntervals,C=C,gamma=gamma,discretizer=d)\n",
    "for i in range(0,nValueIteration):\n",
    "    v.nextIteration()"
   ]
  },
  {
   "cell_type": "code",
   "execution_count": null,
   "metadata": {},
   "outputs": [],
   "source": [
    "# Building EIS\n",
    "\n",
    "model = None\n",
    "slModel = SLModel(d)\n",
    "for t in range(0,EISIterations): # run for t iterations\n",
    "    g = EISGame() # Intialize a new game each round\n",
    "    data = [(0,0)]*Nt\n",
    "    for k in range(0,Nt): \n",
    "        s = sparseSampling(gamma=gamma,G = g,Rmax = Rmax, epsilon = epsilon,model = model ) # Explore\n",
    "        s.H = H\n",
    "        s.C = C\n",
    "        sampledState =  np.random.uniform(-1,1)\n",
    "        if sampledState <= 0: # Improve\n",
    "            V = min(s.estimateQ(s.H,sampledState,turn=1)) # player 2\n",
    "        else:\n",
    "            V = max(s.estimateQ(s.H,sampledState, turn=0)) # player 1\n",
    "        data[k]=(sampledState,V) # Generate Data\n",
    "    model = slModel\n",
    "    model.updateValues(data)\n",
    "#     pprint.pprint(model.V)\n",
    "    plt.scatter(x= list(v.V.values()),y= list(model.V.values()))\n",
    "    plt.scatter(x = list(v.V.values()),y = list(v.V.values()),color='r',alpha=0.3)\n",
    "    plt.text(0.3,-0.5, 'Red is expected plot \\n as t -> infinity', bbox=dict(facecolor=None, alpha=0.5))    \n",
    "    plt.xlabel(\"V*_Hat\")\n",
    "    plt.ylabel(\"V*_EIS\")\n",
    "    plt.xlim([-1,1.5])\n",
    "    plt.ylim([-1,1.5])\n",
    "    plt.title(\"ValueIteration_V* vs EIS_V* \" + \"Iteration Number: \"+ str(t))\n",
    "    plt.show()\n",
    "    "
   ]
  }
 ],
 "metadata": {
  "kernelspec": {
   "display_name": "Python 3",
   "language": "python",
   "name": "python3"
  },
  "language_info": {
   "codemirror_mode": {
    "name": "ipython",
    "version": 3
   },
   "file_extension": ".py",
   "mimetype": "text/x-python",
   "name": "python",
   "nbconvert_exporter": "python",
   "pygments_lexer": "ipython3",
   "version": "3.7.3"
  }
 },
 "nbformat": 4,
 "nbformat_minor": 2
}
