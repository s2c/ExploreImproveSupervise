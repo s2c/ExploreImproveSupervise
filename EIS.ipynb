{
 "cells": [
  {
   "cell_type": "code",
   "execution_count": 1,
   "metadata": {},
   "outputs": [],
   "source": [
    "import numpy as np\n",
    "from sparseSampling import sparseSampling\n",
    "from EISGame import EISGame\n",
    "from valueIteration import valueIteration\n",
    "from discretizer import discretizer"
   ]
  },
  {
   "cell_type": "code",
   "execution_count": 2,
   "metadata": {
    "scrolled": true
   },
   "outputs": [],
   "source": [
    "# Parameters\n",
    "Rmax = 1.5\n",
    "epsilon = 0.5\n",
    "gamma = 0.3\n",
    "stateRange = [-1,1]\n",
    "numIntervals = 20\n",
    "C = 20\n",
    "h = 3\n",
    "\n",
    "# v.V"
   ]
  },
  {
   "cell_type": "code",
   "execution_count": 3,
   "metadata": {},
   "outputs": [
    {
     "name": "stdout",
     "output_type": "stream",
     "text": [
      "The starting state is 0.17013503373892214\n"
     ]
    }
   ],
   "source": [
    "# Objects\n",
    "g = EISGame()\n",
    "d = discretizer(stateRange,numIntervals)\n",
    "s = sparseSampling(gamma=gamma,G = g,Rmax = Rmax, epsilon = epsilon )\n",
    "s.H = h\n",
    "s.C = C\n",
    "v = valueIteration(G=g,stateRange=[-1,1],numInterval=numIntervals,C=C,gamma=gamma,discretizer=d)"
   ]
  },
  {
   "cell_type": "code",
   "execution_count": 4,
   "metadata": {},
   "outputs": [
    {
     "data": {
      "text/plain": [
       "{-1.0: 0.30216247854902234,\n",
       " -0.90000000000000002: 0.21774496236422849,\n",
       " -0.80000000000000004: 0.11213078171973898,\n",
       " -0.69999999999999996: 0.0095370153343787289,\n",
       " -0.59999999999999998: -0.069038165816262903,\n",
       " -0.5: -0.13176886833944743,\n",
       " -0.39999999999999991: -0.26634520887964397,\n",
       " -0.29999999999999993: -0.379887247100956,\n",
       " -0.19999999999999996: -0.48187378788679669,\n",
       " -0.099999999999999978: -0.56085761407931989,\n",
       " 0.0: -0.65474359612680855,\n",
       " 0.10000000000000009: -0.11768983530474265,\n",
       " 0.20000000000000018: -0.0082765394295348932,\n",
       " 0.30000000000000004: 0.12772956297847704,\n",
       " 0.40000000000000013: 0.21393803729636959,\n",
       " 0.5: 0.35407812029594454,\n",
       " 0.60000000000000009: 0.42115432811914144,\n",
       " 0.70000000000000018: 0.5716068097872975,\n",
       " 0.80000000000000004: 0.64526413484984846,\n",
       " 0.90000000000000013: 0.77259592415384004,\n",
       " 1.0: 0.85489197373413262}"
      ]
     },
     "execution_count": 4,
     "metadata": {},
     "output_type": "execute_result"
    }
   ],
   "source": [
    "# Run Value Iteration\n",
    "nValueIteration = 100\n",
    "for i in range(0,nValueIteration):\n",
    "    v.nextIteration()\n",
    "v.V"
   ]
  },
  {
   "cell_type": "code",
   "execution_count": null,
   "metadata": {},
   "outputs": [],
   "source": []
  }
 ],
 "metadata": {
  "kernelspec": {
   "display_name": "Python 3",
   "language": "python",
   "name": "python3"
  },
  "language_info": {
   "codemirror_mode": {
    "name": "ipython",
    "version": 3
   },
   "file_extension": ".py",
   "mimetype": "text/x-python",
   "name": "python",
   "nbconvert_exporter": "python",
   "pygments_lexer": "ipython3",
   "version": "3.5.2"
  }
 },
 "nbformat": 4,
 "nbformat_minor": 2
}
